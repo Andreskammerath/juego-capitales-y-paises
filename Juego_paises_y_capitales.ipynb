{
  "nbformat": 4,
  "nbformat_minor": 0,
  "metadata": {
    "colab": {
      "name": "Juego_paises_y_capitales.ipynb",
      "provenance": [],
      "authorship_tag": "ABX9TyNQ1Aink25vlMQEJJYQQBjf"
    },
    "kernelspec": {
      "name": "python3",
      "display_name": "Python 3"
    },
    "language_info": {
      "name": "python"
    }
  },
  "cells": [
    {
      "cell_type": "code",
      "metadata": {
        "id": "-SMB14WvHvj8"
      },
      "source": [
        "from google.colab import files"
      ],
      "execution_count": null,
      "outputs": []
    },
    {
      "cell_type": "code",
      "metadata": {
        "id": "oEePPWaZIDxe"
      },
      "source": [
        "import random"
      ],
      "execution_count": null,
      "outputs": []
    },
    {
      "cell_type": "code",
      "metadata": {
        "colab": {
          "resources": {
            "http://localhost:8080/nbextensions/google.colab/files.js": {
              "data": "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",
              "ok": true,
              "headers": [
                [
                  "content-type",
                  "application/javascript"
                ]
              ],
              "status": 200,
              "status_text": "OK"
            }
          },
          "base_uri": "https://localhost:8080/",
          "height": 111
        },
        "id": "p2IG6nKxIIIg",
        "outputId": "92657e5d-3428-445a-8d97-d0266dc82e86"
      },
      "source": [
        "files.upload()"
      ],
      "execution_count": null,
      "outputs": [
        {
          "output_type": "display_data",
          "data": {
            "text/html": [
              "\n",
              "     <input type=\"file\" id=\"files-0178e333-36c3-48c0-b22a-564c6fffee3a\" name=\"files[]\" multiple disabled\n",
              "        style=\"border:none\" />\n",
              "     <output id=\"result-0178e333-36c3-48c0-b22a-564c6fffee3a\">\n",
              "      Upload widget is only available when the cell has been executed in the\n",
              "      current browser session. Please rerun this cell to enable.\n",
              "      </output>\n",
              "      <script src=\"/nbextensions/google.colab/files.js\"></script> "
            ],
            "text/plain": [
              "<IPython.core.display.HTML object>"
            ]
          },
          "metadata": {
            "tags": []
          }
        },
        {
          "output_type": "stream",
          "text": [
            "Saving capitales.txt to capitales.txt\n"
          ],
          "name": "stdout"
        },
        {
          "output_type": "execute_result",
          "data": {
            "text/plain": [
              "{'capitales.txt': b\"\\xc3\\x81FRICA;ANGOLA;LUANDA\\n\\xc3\\x81FRICA;ARGELIA;ARGEL\\n\\xc3\\x81FRICA;BENIN;PORTO-NOVO\\n\\xc3\\x81FRICA;BOTSUANA;GABERONES\\n\\xc3\\x81FRICA;BURKINA FASO;UAGADUG\\xc3\\x9a\\n\\xc3\\x81FRICA;BURUNDI;BUYUMBURA\\n\\xc3\\x81FRICA;CABO VERDE;PRAIA\\n\\xc3\\x81FRICA;CAMER\\xc3\\x9aN;YAUND\\xc3\\x89\\n\\xc3\\x81FRICA;CHAD;YAMENA\\n\\xc3\\x81FRICA;COMORAS;MORONI\\n\\xc3\\x81FRICA;COSTA DE MARFIL;YAMUSUKRO, ABIY\\xc3\\x81N\\n\\xc3\\x81FRICA;EGIPTO;EL CAIRO\\n\\xc3\\x81FRICA;ERITREA;ASMARA\\n\\xc3\\x81FRICA;ETIOP\\xc3\\x8dA;AD\\xc3\\x8dS ABEBA\\n\\xc3\\x81FRICA;GAB\\xc3\\x93N;LIBREVILLE\\n\\xc3\\x81FRICA;GAMBIA;BANJUL\\n\\xc3\\x81FRICA;GHANA;ACCRA\\n\\xc3\\x81FRICA;GUINEA;CONAKRY\\n\\xc3\\x81FRICA;GUINEA ECUATORIAL;MALABO\\n\\xc3\\x81FRICA;GUINEA-BISSAU;BISSAU\\n\\xc3\\x81FRICA;KENIA;NAIROBI\\n\\xc3\\x81FRICA;LESOTO;MASERU\\n\\xc3\\x81FRICA;LIBERIA;MONROVIA\\n\\xc3\\x81FRICA;LIBIA;TR\\xc3\\x8dPOLI\\n\\xc3\\x81FRICA;MADAGASCAR;ANTANANARIVO\\n\\xc3\\x81FRICA;MALAUI;LILONG\\xc3\\x9cE\\n\\xc3\\x81FRICA;MALI;BAMAKO\\n\\xc3\\x81FRICA;MARRUECOS;RABAT\\n\\xc3\\x81FRICA;MAURICIO;PORT LOUIS\\n\\xc3\\x81FRICA;MAURITANIA;NUAKCHOT\\n\\xc3\\x81FRICA;MOZAMBIQUE;MAPUTO\\n\\xc3\\x81FRICA;NAMIBIA;WINDHOEK\\n\\xc3\\x81FRICA;N\\xc3\\x8dGER;NIAMEY\\n\\xc3\\x81FRICA;NIGERIA;ABUYA\\n\\xc3\\x81FRICA;REP\\xc3\\x9aBLICA CENTROAFRICANA;BANGUI\\n\\xc3\\x81FRICA;REP\\xc3\\x9aBLICA DEL CONGO;BRAZZAVILLE\\n\\xc3\\x81FRICA;REP\\xc3\\x9aBLICA DEMOCR\\xc3\\x81TICA DEL CONGO;KINSHASA\\n\\xc3\\x81FRICA;REP\\xc3\\x9aBLICA SAHARAUI;EL AAI\\xc3\\x9aN\\n\\xc3\\x81FRICA;RUANDA;KIGALI\\n\\xc3\\x81FRICA;SANTO TOM\\xc3\\x89 Y PR\\xc3\\x8dNCIPE;SANTO TOM\\xc3\\x89\\n\\xc3\\x81FRICA;SENEGAL;DAKAR\\n\\xc3\\x81FRICA;SEYCHELLES;VICTORIA\\n\\xc3\\x81FRICA;SIERRA LEONA;FREETOWN\\n\\xc3\\x81FRICA;SOMALIA;MOGADISCIO\\n\\xc3\\x81FRICA;SUAZILANDIA;MBABANE\\n\\xc3\\x81FRICA;SUD\\xc3\\x81FRICA;PRETORIA, CIUDAD DEL CABO, BLOEMFONTEIN\\n\\xc3\\x81FRICA;SUD\\xc3\\x81N DEL NORTE;JARTUM\\n\\xc3\\x81FRICA;SUD\\xc3\\x81N DEL SUR;YUBA\\n\\xc3\\x81FRICA;TANZANIA;DODOMA\\n\\xc3\\x81FRICA;TOGO;LOM\\xc3\\x89\\n\\xc3\\x81FRICA;T\\xc3\\x9aNEZ;T\\xc3\\x9aNEZ\\n\\xc3\\x81FRICA;UGANDA;KAMPALA\\n\\xc3\\x81FRICA;YIBUTI;YIBUTI\\n\\xc3\\x81FRICA;ZAMBIA;LUSAKA\\n\\xc3\\x81FRICA;ZIMBABUE;HARARE\\nAM\\xc3\\x89RICA;ANTIGUA Y BARBUDA;SAINT JOHN'S\\nAM\\xc3\\x89RICA;ARGENTINA;BUENOS AIRES\\nAM\\xc3\\x89RICA;BAHAMAS;NASSAU\\nAM\\xc3\\x89RICA;BARBADOS;BRIDGETOWN\\nAM\\xc3\\x89RICA;BELICE;BELMOP\\xc3\\x81N\\nAM\\xc3\\x89RICA;BOLIVIA;SUCRE, LA PAZ\\nAM\\xc3\\x89RICA;BRASIL;BRASILIA\\nAM\\xc3\\x89RICA;CANAD\\xc3\\x81;OTTAWA\\nAM\\xc3\\x89RICA;CHILE;SANTIAGO DE CHILE\\nAM\\xc3\\x89RICA;COLOMBIA;BOGOT\\xc3\\x81\\nAM\\xc3\\x89RICA;COSTA RICA;SAN JOS\\xc3\\x89\\nAM\\xc3\\x89RICA;CUBA;LA HABANA\\nAM\\xc3\\x89RICA;DOMINICA;ROSEAU\\nAM\\xc3\\x89RICA;ECUADOR;QUITO\\nAM\\xc3\\x89RICA;EL SALVADOR;SAN SALVADOR\\nAM\\xc3\\x89RICA;ESTADOS UNIDOS;WASHINGTON D. C.\\nAM\\xc3\\x89RICA;GRANADA;SAINT GEORGE'S\\nAM\\xc3\\x89RICA;GUATEMALA;CIUDAD DE GUATEMALA\\nAM\\xc3\\x89RICA;GUYANA;GEORGETOWN\\nAM\\xc3\\x89RICA;HAIT\\xc3\\x8d;PUERTO PR\\xc3\\x8dNCIPE\\nAM\\xc3\\x89RICA;HONDURAS;TEGUCIGALPA\\nAM\\xc3\\x89RICA;JAMAICA;KINGSTON\\nAM\\xc3\\x89RICA;M\\xc3\\x89XICO;M\\xc3\\x89XICO D. F.\\nAM\\xc3\\x89RICA;NICARAGUA;MANAGUA\\nAM\\xc3\\x89RICA;PANAM\\xc3\\x81;CIUDAD DE PANAM\\xc3\\x81\\nAM\\xc3\\x89RICA;PARAGUAY;ASUNCI\\xc3\\x93N\\nAM\\xc3\\x89RICA;PER\\xc3\\x9a;LIMA\\nAM\\xc3\\x89RICA;PUERTO RICO;SAN JUAN\\nAM\\xc3\\x89RICA;REP\\xc3\\x9aBLICA DOMINICANA;SANTO DOMINGO\\nAM\\xc3\\x89RICA;SAN CRIST\\xc3\\x93BAL Y NIEVES;BASSETERRE\\nAM\\xc3\\x89RICA;SAN VICENTE Y LAS GRANADINAS;KINGSTOWN\\nAM\\xc3\\x89RICA;SANTA LUC\\xc3\\x8dA;CASTRIES\\nAM\\xc3\\x89RICA;SURINAM;PARAMARIBO\\nAM\\xc3\\x89RICA;TRINIDAD Y TOBAGO;PUERTO ESPA\\xc3\\x91A\\nAM\\xc3\\x89RICA;URUGUAY;MONTEVIDEO\\nAM\\xc3\\x89RICA;VENEZUELA;CARACAS\\nASIA;AFGANIST\\xc3\\x81N;KABUL\\nASIA;ARABIA SAUDITA;RIAD\\nASIA;BANGLAD\\xc3\\x89S;DACA\\nASIA;BAR\\xc3\\x89IN;MANAM\\xc3\\x81\\nASIA;BRUNEI;BANDAR SERI BEGAWAN\\nASIA;BUT\\xc3\\x81N;TIMBU\\nASIA;CAMBOYA;PNON PEHN\\nASIA;CATAR;DOHA\\nASIA;CHINA;PEK\\xc3\\x8dN\\nASIA;CHIPRE;NICOSIA\\nASIA;COREA DEL NORTE;PYONGYANG\\nASIA;COREA DEL SUR;SE\\xc3\\x9aL\\nASIA;EMIRATOS ARABES UNIDOS;ABU DABI\\nASIA;FILIPINAS;MANILA\\nASIA;INDIA;NUEVA DELHI\\nASIA;INDONESIA;YAKARTA\\nASIA;IR\\xc3\\x81N;TEHER\\xc3\\x81N\\nASIA;IRAQ;BAGDAD\\nASIA;ISRAEL;JERUSAL\\xc3\\x89N\\nASIA;JAP\\xc3\\x93N;TOKIO\\nASIA;JORDANIA;AMM\\xc3\\x81N\\nASIA;KAZAJIST\\xc3\\x81N;ASTAN\\xc3\\x81\\nASIA;KIRGUIST\\xc3\\x81N;BISKEK\\nASIA;KUWAIT;CIUDAD DE KUWAIT\\nASIA;LAOS;VIENTI\\xc3\\x81N\\nASIA;L\\xc3\\x8dBANO;BEIRUT\\nASIA;MALASIA;KUALA LUMPUR\\nASIA;MALDIVAS;MAL\\xc3\\x89\\nASIA;MONGOLIA;ULAN BATOR\\nASIA;MYANMAR (BIRMANIA);NAYPYIDAW\\nASIA;NEPAL;KATMAND\\xc3\\x9a\\nASIA;OM\\xc3\\x81N;MASCATE\\nASIA;PAKIST\\xc3\\x81N;ISLAMABAD\\nASIA;PALESTINA;RAMALA\\nASIA;SINGAPUR;SINGAPUR\\nASIA;SIRIA;DAMASCO\\nASIA;SRI LANKA;COLOMBO\\nASIA;TAILANDIA;BANGKOK\\nASIA;TAIWAN;TAIPEH\\nASIA;TAYIKIST\\xc3\\x81N;DUSAMB\\xc3\\x89\\nASIA;TIMOR ORIENTAL;DILI\\nASIA;TURKMENIST\\xc3\\x81N;ASJABAD\\nASIA;TURQU\\xc3\\x8dA;ANKARA\\nASIA;UZBEKIST\\xc3\\x81N;TASHKENT\\nASIA;VIETNAM;HANOI\\nASIA;YEMEN;SAN\\xc3\\x81\\nEUROPA;ALBANIA;TIRANA\\nEUROPA;ALEMANIA;BERL\\xc3\\x8dN\\nEUROPA;ANDORRA;ANDORRA LA VIEJA\\nEUROPA;ARMENIA;EREV\\xc3\\x81N\\nEUROPA;AUSTRIA;VIENA\\nEUROPA;AZERBAIY\\xc3\\x81N;BAK\\xc3\\x9a\\nEUROPA;B\\xc3\\x89LGICA;BRUSELAS\\nEUROPA;BIELORRUSIA;MINSK\\nEUROPA;BOSNIA Y HERZEGOVINA;SARAJEVO\\nEUROPA;BULGARIA;SOF\\xc3\\x8dA\\nEUROPA;CROACIA;ZAGREB\\nEUROPA;DINAMARCA;COPENHAGUE\\nEUROPA;ESLOVAQUIA;BRATISLAVA\\nEUROPA;ESLOVENIA;LUBLIJANA\\nEUROPA;ESPA\\xc3\\x91A;MADRID\\nEUROPA;ESTONIA;TALL\\xc3\\x8dN\\nEUROPA;FINLANDIA;HELSINKI\\nEUROPA;FRANCIA;PAR\\xc3\\x8dS\\nEUROPA;GEORGIA;TIFLIS\\nEUROPA;GRECIA;ATENAS\\nEUROPA;HUNGR\\xc3\\x8dA;BUDAPEST\\nEUROPA;IRLANDA;DUBL\\xc3\\x8dN\\nEUROPA;ISLANDIA;REIKIAVIK\\nEUROPA;ITALIA;ROMA\\nEUROPA;LETONIA;RIGA\\nEUROPA;LIECHTENSTEIN;VADUZ\\nEUROPA;LITUANIA;VILNA\\nEUROPA;LUXEMBURGO;LUXEMBURGO\\nEUROPA;MALTA;LA VALETA\\nEUROPA;MOLDAVIA;CHISINAU\\nEUROPA;M\\xc3\\x93NACO;M\\xc3\\x93NACO\\nEUROPA;MONTENEGRO;PODGORICA\\nEUROPA;NORUEGA;OSLO\\nEUROPA;PA\\xc3\\x8dSES BAJOS;AMSTERDAM\\nEUROPA;POLONIA;VARSOVIA\\nEUROPA;PORTUGAL;LISBOA\\nEUROPA;REINO UNIDO;LONDRES\\nEUROPA;REP\\xc3\\x9aBLICA CHECA;PRAGA\\nEUROPA;REP\\xc3\\x9aBLICA DE MACEDONIA;SKOPJE\\nEUROPA;RUMANIA;BUCAREST\\nEUROPA;RUSIA;MOSC\\xc3\\x9a\\nEUROPA;SAN MARINO;CIUDAD DE SAN MARINO\\nEUROPA;SERBIA;BELGRADO\\nEUROPA;SUECIA;ESTOCOLMO\\nEUROPA;SUIZA;BERNA\\nEUROPA;UCRANIA;KIEV\\nEUROPA;VATICANO;CIUDAD DEL VATICANO\\nOCEAN\\xc3\\x8dA;AUSTRALIA;CANBERRA\\nOCEAN\\xc3\\x8dA;FIYI;SUVA\\nOCEAN\\xc3\\x8dA;ISLAS MARSHALL;MAJURO\\nOCEAN\\xc3\\x8dA;ISLAS SALOM\\xc3\\x93N;HONIARA\\nOCEAN\\xc3\\x8dA;KIRIBATI;TARAWA\\nOCEAN\\xc3\\x8dA;MICRONESIA;PALIKIR\\nOCEAN\\xc3\\x8dA;NAURU;YAREN\\nOCEAN\\xc3\\x8dA;NUEVA ZELANDA;WELLINGTON\\nOCEAN\\xc3\\x8dA;PALAOS;MELEKEOK\\nOCEAN\\xc3\\x8dA;PAP\\xc3\\x9aA NUEVA GUINEA;PORT MORESBY\\nOCEAN\\xc3\\x8dA;SAMOA;APIA\\nOCEAN\\xc3\\x8dA;TONGA;NUKU'ALOFA\\nOCEAN\\xc3\\x8dA;TUVALU;FUNAFUTI\\nOCEAN\\xc3\\x8dA;VANUATU;PORT VILA\\n\"}"
            ]
          },
          "metadata": {
            "tags": []
          },
          "execution_count": 4
        }
      ]
    },
    {
      "cell_type": "code",
      "metadata": {
        "id": "e3OQCVTdIVoN"
      },
      "source": [
        "buffer = open(\"capitales.txt\", \"r\")"
      ],
      "execution_count": null,
      "outputs": []
    },
    {
      "cell_type": "code",
      "metadata": {
        "colab": {
          "base_uri": "https://localhost:8080/"
        },
        "id": "smLzbiqRJfu4",
        "outputId": "50b8a133-c637-401a-f691-34390d1f7680"
      },
      "source": [
        "buffer"
      ],
      "execution_count": null,
      "outputs": [
        {
          "output_type": "execute_result",
          "data": {
            "text/plain": [
              "<_io.TextIOWrapper name='capitales.txt' mode='r' encoding='UTF-8'>"
            ]
          },
          "metadata": {
            "tags": []
          },
          "execution_count": 8
        }
      ]
    },
    {
      "cell_type": "code",
      "metadata": {
        "id": "Ueqj3-0gJlBr"
      },
      "source": [
        "raw_material = buffer.readlines()"
      ],
      "execution_count": null,
      "outputs": []
    },
    {
      "cell_type": "code",
      "metadata": {
        "colab": {
          "base_uri": "https://localhost:8080/"
        },
        "id": "rwXW3SAEJs5T",
        "outputId": "70afe906-6c38-4d4d-c999-26ac36b2748f"
      },
      "source": [
        "raw_material"
      ],
      "execution_count": null,
      "outputs": [
        {
          "output_type": "execute_result",
          "data": {
            "text/plain": [
              "['ÁFRICA;ANGOLA;LUANDA\\n',\n",
              " 'ÁFRICA;ARGELIA;ARGEL\\n',\n",
              " 'ÁFRICA;BENIN;PORTO-NOVO\\n',\n",
              " 'ÁFRICA;BOTSUANA;GABERONES\\n',\n",
              " 'ÁFRICA;BURKINA FASO;UAGADUGÚ\\n',\n",
              " 'ÁFRICA;BURUNDI;BUYUMBURA\\n',\n",
              " 'ÁFRICA;CABO VERDE;PRAIA\\n',\n",
              " 'ÁFRICA;CAMERÚN;YAUNDÉ\\n',\n",
              " 'ÁFRICA;CHAD;YAMENA\\n',\n",
              " 'ÁFRICA;COMORAS;MORONI\\n',\n",
              " 'ÁFRICA;COSTA DE MARFIL;YAMUSUKRO, ABIYÁN\\n',\n",
              " 'ÁFRICA;EGIPTO;EL CAIRO\\n',\n",
              " 'ÁFRICA;ERITREA;ASMARA\\n',\n",
              " 'ÁFRICA;ETIOPÍA;ADÍS ABEBA\\n',\n",
              " 'ÁFRICA;GABÓN;LIBREVILLE\\n',\n",
              " 'ÁFRICA;GAMBIA;BANJUL\\n',\n",
              " 'ÁFRICA;GHANA;ACCRA\\n',\n",
              " 'ÁFRICA;GUINEA;CONAKRY\\n',\n",
              " 'ÁFRICA;GUINEA ECUATORIAL;MALABO\\n',\n",
              " 'ÁFRICA;GUINEA-BISSAU;BISSAU\\n',\n",
              " 'ÁFRICA;KENIA;NAIROBI\\n',\n",
              " 'ÁFRICA;LESOTO;MASERU\\n',\n",
              " 'ÁFRICA;LIBERIA;MONROVIA\\n',\n",
              " 'ÁFRICA;LIBIA;TRÍPOLI\\n',\n",
              " 'ÁFRICA;MADAGASCAR;ANTANANARIVO\\n',\n",
              " 'ÁFRICA;MALAUI;LILONGÜE\\n',\n",
              " 'ÁFRICA;MALI;BAMAKO\\n',\n",
              " 'ÁFRICA;MARRUECOS;RABAT\\n',\n",
              " 'ÁFRICA;MAURICIO;PORT LOUIS\\n',\n",
              " 'ÁFRICA;MAURITANIA;NUAKCHOT\\n',\n",
              " 'ÁFRICA;MOZAMBIQUE;MAPUTO\\n',\n",
              " 'ÁFRICA;NAMIBIA;WINDHOEK\\n',\n",
              " 'ÁFRICA;NÍGER;NIAMEY\\n',\n",
              " 'ÁFRICA;NIGERIA;ABUYA\\n',\n",
              " 'ÁFRICA;REPÚBLICA CENTROAFRICANA;BANGUI\\n',\n",
              " 'ÁFRICA;REPÚBLICA DEL CONGO;BRAZZAVILLE\\n',\n",
              " 'ÁFRICA;REPÚBLICA DEMOCRÁTICA DEL CONGO;KINSHASA\\n',\n",
              " 'ÁFRICA;REPÚBLICA SAHARAUI;EL AAIÚN\\n',\n",
              " 'ÁFRICA;RUANDA;KIGALI\\n',\n",
              " 'ÁFRICA;SANTO TOMÉ Y PRÍNCIPE;SANTO TOMÉ\\n',\n",
              " 'ÁFRICA;SENEGAL;DAKAR\\n',\n",
              " 'ÁFRICA;SEYCHELLES;VICTORIA\\n',\n",
              " 'ÁFRICA;SIERRA LEONA;FREETOWN\\n',\n",
              " 'ÁFRICA;SOMALIA;MOGADISCIO\\n',\n",
              " 'ÁFRICA;SUAZILANDIA;MBABANE\\n',\n",
              " 'ÁFRICA;SUDÁFRICA;PRETORIA, CIUDAD DEL CABO, BLOEMFONTEIN\\n',\n",
              " 'ÁFRICA;SUDÁN DEL NORTE;JARTUM\\n',\n",
              " 'ÁFRICA;SUDÁN DEL SUR;YUBA\\n',\n",
              " 'ÁFRICA;TANZANIA;DODOMA\\n',\n",
              " 'ÁFRICA;TOGO;LOMÉ\\n',\n",
              " 'ÁFRICA;TÚNEZ;TÚNEZ\\n',\n",
              " 'ÁFRICA;UGANDA;KAMPALA\\n',\n",
              " 'ÁFRICA;YIBUTI;YIBUTI\\n',\n",
              " 'ÁFRICA;ZAMBIA;LUSAKA\\n',\n",
              " 'ÁFRICA;ZIMBABUE;HARARE\\n',\n",
              " \"AMÉRICA;ANTIGUA Y BARBUDA;SAINT JOHN'S\\n\",\n",
              " 'AMÉRICA;ARGENTINA;BUENOS AIRES\\n',\n",
              " 'AMÉRICA;BAHAMAS;NASSAU\\n',\n",
              " 'AMÉRICA;BARBADOS;BRIDGETOWN\\n',\n",
              " 'AMÉRICA;BELICE;BELMOPÁN\\n',\n",
              " 'AMÉRICA;BOLIVIA;SUCRE, LA PAZ\\n',\n",
              " 'AMÉRICA;BRASIL;BRASILIA\\n',\n",
              " 'AMÉRICA;CANADÁ;OTTAWA\\n',\n",
              " 'AMÉRICA;CHILE;SANTIAGO DE CHILE\\n',\n",
              " 'AMÉRICA;COLOMBIA;BOGOTÁ\\n',\n",
              " 'AMÉRICA;COSTA RICA;SAN JOSÉ\\n',\n",
              " 'AMÉRICA;CUBA;LA HABANA\\n',\n",
              " 'AMÉRICA;DOMINICA;ROSEAU\\n',\n",
              " 'AMÉRICA;ECUADOR;QUITO\\n',\n",
              " 'AMÉRICA;EL SALVADOR;SAN SALVADOR\\n',\n",
              " 'AMÉRICA;ESTADOS UNIDOS;WASHINGTON D. C.\\n',\n",
              " \"AMÉRICA;GRANADA;SAINT GEORGE'S\\n\",\n",
              " 'AMÉRICA;GUATEMALA;CIUDAD DE GUATEMALA\\n',\n",
              " 'AMÉRICA;GUYANA;GEORGETOWN\\n',\n",
              " 'AMÉRICA;HAITÍ;PUERTO PRÍNCIPE\\n',\n",
              " 'AMÉRICA;HONDURAS;TEGUCIGALPA\\n',\n",
              " 'AMÉRICA;JAMAICA;KINGSTON\\n',\n",
              " 'AMÉRICA;MÉXICO;MÉXICO D. F.\\n',\n",
              " 'AMÉRICA;NICARAGUA;MANAGUA\\n',\n",
              " 'AMÉRICA;PANAMÁ;CIUDAD DE PANAMÁ\\n',\n",
              " 'AMÉRICA;PARAGUAY;ASUNCIÓN\\n',\n",
              " 'AMÉRICA;PERÚ;LIMA\\n',\n",
              " 'AMÉRICA;PUERTO RICO;SAN JUAN\\n',\n",
              " 'AMÉRICA;REPÚBLICA DOMINICANA;SANTO DOMINGO\\n',\n",
              " 'AMÉRICA;SAN CRISTÓBAL Y NIEVES;BASSETERRE\\n',\n",
              " 'AMÉRICA;SAN VICENTE Y LAS GRANADINAS;KINGSTOWN\\n',\n",
              " 'AMÉRICA;SANTA LUCÍA;CASTRIES\\n',\n",
              " 'AMÉRICA;SURINAM;PARAMARIBO\\n',\n",
              " 'AMÉRICA;TRINIDAD Y TOBAGO;PUERTO ESPAÑA\\n',\n",
              " 'AMÉRICA;URUGUAY;MONTEVIDEO\\n',\n",
              " 'AMÉRICA;VENEZUELA;CARACAS\\n',\n",
              " 'ASIA;AFGANISTÁN;KABUL\\n',\n",
              " 'ASIA;ARABIA SAUDITA;RIAD\\n',\n",
              " 'ASIA;BANGLADÉS;DACA\\n',\n",
              " 'ASIA;BARÉIN;MANAMÁ\\n',\n",
              " 'ASIA;BRUNEI;BANDAR SERI BEGAWAN\\n',\n",
              " 'ASIA;BUTÁN;TIMBU\\n',\n",
              " 'ASIA;CAMBOYA;PNON PEHN\\n',\n",
              " 'ASIA;CATAR;DOHA\\n',\n",
              " 'ASIA;CHINA;PEKÍN\\n',\n",
              " 'ASIA;CHIPRE;NICOSIA\\n',\n",
              " 'ASIA;COREA DEL NORTE;PYONGYANG\\n',\n",
              " 'ASIA;COREA DEL SUR;SEÚL\\n',\n",
              " 'ASIA;EMIRATOS ARABES UNIDOS;ABU DABI\\n',\n",
              " 'ASIA;FILIPINAS;MANILA\\n',\n",
              " 'ASIA;INDIA;NUEVA DELHI\\n',\n",
              " 'ASIA;INDONESIA;YAKARTA\\n',\n",
              " 'ASIA;IRÁN;TEHERÁN\\n',\n",
              " 'ASIA;IRAQ;BAGDAD\\n',\n",
              " 'ASIA;ISRAEL;JERUSALÉN\\n',\n",
              " 'ASIA;JAPÓN;TOKIO\\n',\n",
              " 'ASIA;JORDANIA;AMMÁN\\n',\n",
              " 'ASIA;KAZAJISTÁN;ASTANÁ\\n',\n",
              " 'ASIA;KIRGUISTÁN;BISKEK\\n',\n",
              " 'ASIA;KUWAIT;CIUDAD DE KUWAIT\\n',\n",
              " 'ASIA;LAOS;VIENTIÁN\\n',\n",
              " 'ASIA;LÍBANO;BEIRUT\\n',\n",
              " 'ASIA;MALASIA;KUALA LUMPUR\\n',\n",
              " 'ASIA;MALDIVAS;MALÉ\\n',\n",
              " 'ASIA;MONGOLIA;ULAN BATOR\\n',\n",
              " 'ASIA;MYANMAR (BIRMANIA);NAYPYIDAW\\n',\n",
              " 'ASIA;NEPAL;KATMANDÚ\\n',\n",
              " 'ASIA;OMÁN;MASCATE\\n',\n",
              " 'ASIA;PAKISTÁN;ISLAMABAD\\n',\n",
              " 'ASIA;PALESTINA;RAMALA\\n',\n",
              " 'ASIA;SINGAPUR;SINGAPUR\\n',\n",
              " 'ASIA;SIRIA;DAMASCO\\n',\n",
              " 'ASIA;SRI LANKA;COLOMBO\\n',\n",
              " 'ASIA;TAILANDIA;BANGKOK\\n',\n",
              " 'ASIA;TAIWAN;TAIPEH\\n',\n",
              " 'ASIA;TAYIKISTÁN;DUSAMBÉ\\n',\n",
              " 'ASIA;TIMOR ORIENTAL;DILI\\n',\n",
              " 'ASIA;TURKMENISTÁN;ASJABAD\\n',\n",
              " 'ASIA;TURQUÍA;ANKARA\\n',\n",
              " 'ASIA;UZBEKISTÁN;TASHKENT\\n',\n",
              " 'ASIA;VIETNAM;HANOI\\n',\n",
              " 'ASIA;YEMEN;SANÁ\\n',\n",
              " 'EUROPA;ALBANIA;TIRANA\\n',\n",
              " 'EUROPA;ALEMANIA;BERLÍN\\n',\n",
              " 'EUROPA;ANDORRA;ANDORRA LA VIEJA\\n',\n",
              " 'EUROPA;ARMENIA;EREVÁN\\n',\n",
              " 'EUROPA;AUSTRIA;VIENA\\n',\n",
              " 'EUROPA;AZERBAIYÁN;BAKÚ\\n',\n",
              " 'EUROPA;BÉLGICA;BRUSELAS\\n',\n",
              " 'EUROPA;BIELORRUSIA;MINSK\\n',\n",
              " 'EUROPA;BOSNIA Y HERZEGOVINA;SARAJEVO\\n',\n",
              " 'EUROPA;BULGARIA;SOFÍA\\n',\n",
              " 'EUROPA;CROACIA;ZAGREB\\n',\n",
              " 'EUROPA;DINAMARCA;COPENHAGUE\\n',\n",
              " 'EUROPA;ESLOVAQUIA;BRATISLAVA\\n',\n",
              " 'EUROPA;ESLOVENIA;LUBLIJANA\\n',\n",
              " 'EUROPA;ESPAÑA;MADRID\\n',\n",
              " 'EUROPA;ESTONIA;TALLÍN\\n',\n",
              " 'EUROPA;FINLANDIA;HELSINKI\\n',\n",
              " 'EUROPA;FRANCIA;PARÍS\\n',\n",
              " 'EUROPA;GEORGIA;TIFLIS\\n',\n",
              " 'EUROPA;GRECIA;ATENAS\\n',\n",
              " 'EUROPA;HUNGRÍA;BUDAPEST\\n',\n",
              " 'EUROPA;IRLANDA;DUBLÍN\\n',\n",
              " 'EUROPA;ISLANDIA;REIKIAVIK\\n',\n",
              " 'EUROPA;ITALIA;ROMA\\n',\n",
              " 'EUROPA;LETONIA;RIGA\\n',\n",
              " 'EUROPA;LIECHTENSTEIN;VADUZ\\n',\n",
              " 'EUROPA;LITUANIA;VILNA\\n',\n",
              " 'EUROPA;LUXEMBURGO;LUXEMBURGO\\n',\n",
              " 'EUROPA;MALTA;LA VALETA\\n',\n",
              " 'EUROPA;MOLDAVIA;CHISINAU\\n',\n",
              " 'EUROPA;MÓNACO;MÓNACO\\n',\n",
              " 'EUROPA;MONTENEGRO;PODGORICA\\n',\n",
              " 'EUROPA;NORUEGA;OSLO\\n',\n",
              " 'EUROPA;PAÍSES BAJOS;AMSTERDAM\\n',\n",
              " 'EUROPA;POLONIA;VARSOVIA\\n',\n",
              " 'EUROPA;PORTUGAL;LISBOA\\n',\n",
              " 'EUROPA;REINO UNIDO;LONDRES\\n',\n",
              " 'EUROPA;REPÚBLICA CHECA;PRAGA\\n',\n",
              " 'EUROPA;REPÚBLICA DE MACEDONIA;SKOPJE\\n',\n",
              " 'EUROPA;RUMANIA;BUCAREST\\n',\n",
              " 'EUROPA;RUSIA;MOSCÚ\\n',\n",
              " 'EUROPA;SAN MARINO;CIUDAD DE SAN MARINO\\n',\n",
              " 'EUROPA;SERBIA;BELGRADO\\n',\n",
              " 'EUROPA;SUECIA;ESTOCOLMO\\n',\n",
              " 'EUROPA;SUIZA;BERNA\\n',\n",
              " 'EUROPA;UCRANIA;KIEV\\n',\n",
              " 'EUROPA;VATICANO;CIUDAD DEL VATICANO\\n',\n",
              " 'OCEANÍA;AUSTRALIA;CANBERRA\\n',\n",
              " 'OCEANÍA;FIYI;SUVA\\n',\n",
              " 'OCEANÍA;ISLAS MARSHALL;MAJURO\\n',\n",
              " 'OCEANÍA;ISLAS SALOMÓN;HONIARA\\n',\n",
              " 'OCEANÍA;KIRIBATI;TARAWA\\n',\n",
              " 'OCEANÍA;MICRONESIA;PALIKIR\\n',\n",
              " 'OCEANÍA;NAURU;YAREN\\n',\n",
              " 'OCEANÍA;NUEVA ZELANDA;WELLINGTON\\n',\n",
              " 'OCEANÍA;PALAOS;MELEKEOK\\n',\n",
              " 'OCEANÍA;PAPÚA NUEVA GUINEA;PORT MORESBY\\n',\n",
              " 'OCEANÍA;SAMOA;APIA\\n',\n",
              " \"OCEANÍA;TONGA;NUKU'ALOFA\\n\",\n",
              " 'OCEANÍA;TUVALU;FUNAFUTI\\n',\n",
              " 'OCEANÍA;VANUATU;PORT VILA\\n']"
            ]
          },
          "metadata": {
            "tags": []
          },
          "execution_count": 10
        }
      ]
    },
    {
      "cell_type": "code",
      "metadata": {
        "id": "eeBowwyMJzwn"
      },
      "source": [
        "db = {}\n",
        "for line in raw_material:\n",
        "  #'EUROPA;POLONIA;VARSOVIA\\n',\n",
        "  continente, pais, capital = line.split(\";\")\n",
        "  capital = capital[:-1]\n",
        "  db[pais] = capital"
      ],
      "execution_count": null,
      "outputs": []
    },
    {
      "cell_type": "code",
      "metadata": {
        "colab": {
          "base_uri": "https://localhost:8080/"
        },
        "id": "kxDVOhyWOPLV",
        "outputId": "91f519bb-89da-4466-ed1e-accac3b233a7"
      },
      "source": [
        "print(db)"
      ],
      "execution_count": null,
      "outputs": [
        {
          "output_type": "stream",
          "text": [
            "{'ANGOLA': 'LUANDA', 'ARGELIA': 'ARGEL', 'BENIN': 'PORTO-NOVO', 'BOTSUANA': 'GABERONES', 'BURKINA FASO': 'UAGADUGÚ', 'BURUNDI': 'BUYUMBURA', 'CABO VERDE': 'PRAIA', 'CAMERÚN': 'YAUNDÉ', 'CHAD': 'YAMENA', 'COMORAS': 'MORONI', 'COSTA DE MARFIL': 'YAMUSUKRO, ABIYÁN', 'EGIPTO': 'EL CAIRO', 'ERITREA': 'ASMARA', 'ETIOPÍA': 'ADÍS ABEBA', 'GABÓN': 'LIBREVILLE', 'GAMBIA': 'BANJUL', 'GHANA': 'ACCRA', 'GUINEA': 'CONAKRY', 'GUINEA ECUATORIAL': 'MALABO', 'GUINEA-BISSAU': 'BISSAU', 'KENIA': 'NAIROBI', 'LESOTO': 'MASERU', 'LIBERIA': 'MONROVIA', 'LIBIA': 'TRÍPOLI', 'MADAGASCAR': 'ANTANANARIVO', 'MALAUI': 'LILONGÜE', 'MALI': 'BAMAKO', 'MARRUECOS': 'RABAT', 'MAURICIO': 'PORT LOUIS', 'MAURITANIA': 'NUAKCHOT', 'MOZAMBIQUE': 'MAPUTO', 'NAMIBIA': 'WINDHOEK', 'NÍGER': 'NIAMEY', 'NIGERIA': 'ABUYA', 'REPÚBLICA CENTROAFRICANA': 'BANGUI', 'REPÚBLICA DEL CONGO': 'BRAZZAVILLE', 'REPÚBLICA DEMOCRÁTICA DEL CONGO': 'KINSHASA', 'REPÚBLICA SAHARAUI': 'EL AAIÚN', 'RUANDA': 'KIGALI', 'SANTO TOMÉ Y PRÍNCIPE': 'SANTO TOMÉ', 'SENEGAL': 'DAKAR', 'SEYCHELLES': 'VICTORIA', 'SIERRA LEONA': 'FREETOWN', 'SOMALIA': 'MOGADISCIO', 'SUAZILANDIA': 'MBABANE', 'SUDÁFRICA': 'PRETORIA, CIUDAD DEL CABO, BLOEMFONTEIN', 'SUDÁN DEL NORTE': 'JARTUM', 'SUDÁN DEL SUR': 'YUBA', 'TANZANIA': 'DODOMA', 'TOGO': 'LOMÉ', 'TÚNEZ': 'TÚNEZ', 'UGANDA': 'KAMPALA', 'YIBUTI': 'YIBUTI', 'ZAMBIA': 'LUSAKA', 'ZIMBABUE': 'HARARE', 'ANTIGUA Y BARBUDA': \"SAINT JOHN'S\", 'ARGENTINA': 'BUENOS AIRES', 'BAHAMAS': 'NASSAU', 'BARBADOS': 'BRIDGETOWN', 'BELICE': 'BELMOPÁN', 'BOLIVIA': 'SUCRE, LA PAZ', 'BRASIL': 'BRASILIA', 'CANADÁ': 'OTTAWA', 'CHILE': 'SANTIAGO DE CHILE', 'COLOMBIA': 'BOGOTÁ', 'COSTA RICA': 'SAN JOSÉ', 'CUBA': 'LA HABANA', 'DOMINICA': 'ROSEAU', 'ECUADOR': 'QUITO', 'EL SALVADOR': 'SAN SALVADOR', 'ESTADOS UNIDOS': 'WASHINGTON D. C.', 'GRANADA': \"SAINT GEORGE'S\", 'GUATEMALA': 'CIUDAD DE GUATEMALA', 'GUYANA': 'GEORGETOWN', 'HAITÍ': 'PUERTO PRÍNCIPE', 'HONDURAS': 'TEGUCIGALPA', 'JAMAICA': 'KINGSTON', 'MÉXICO': 'MÉXICO D. F.', 'NICARAGUA': 'MANAGUA', 'PANAMÁ': 'CIUDAD DE PANAMÁ', 'PARAGUAY': 'ASUNCIÓN', 'PERÚ': 'LIMA', 'PUERTO RICO': 'SAN JUAN', 'REPÚBLICA DOMINICANA': 'SANTO DOMINGO', 'SAN CRISTÓBAL Y NIEVES': 'BASSETERRE', 'SAN VICENTE Y LAS GRANADINAS': 'KINGSTOWN', 'SANTA LUCÍA': 'CASTRIES', 'SURINAM': 'PARAMARIBO', 'TRINIDAD Y TOBAGO': 'PUERTO ESPAÑA', 'URUGUAY': 'MONTEVIDEO', 'VENEZUELA': 'CARACAS', 'AFGANISTÁN': 'KABUL', 'ARABIA SAUDITA': 'RIAD', 'BANGLADÉS': 'DACA', 'BARÉIN': 'MANAMÁ', 'BRUNEI': 'BANDAR SERI BEGAWAN', 'BUTÁN': 'TIMBU', 'CAMBOYA': 'PNON PEHN', 'CATAR': 'DOHA', 'CHINA': 'PEKÍN', 'CHIPRE': 'NICOSIA', 'COREA DEL NORTE': 'PYONGYANG', 'COREA DEL SUR': 'SEÚL', 'EMIRATOS ARABES UNIDOS': 'ABU DABI', 'FILIPINAS': 'MANILA', 'INDIA': 'NUEVA DELHI', 'INDONESIA': 'YAKARTA', 'IRÁN': 'TEHERÁN', 'IRAQ': 'BAGDAD', 'ISRAEL': 'JERUSALÉN', 'JAPÓN': 'TOKIO', 'JORDANIA': 'AMMÁN', 'KAZAJISTÁN': 'ASTANÁ', 'KIRGUISTÁN': 'BISKEK', 'KUWAIT': 'CIUDAD DE KUWAIT', 'LAOS': 'VIENTIÁN', 'LÍBANO': 'BEIRUT', 'MALASIA': 'KUALA LUMPUR', 'MALDIVAS': 'MALÉ', 'MONGOLIA': 'ULAN BATOR', 'MYANMAR (BIRMANIA)': 'NAYPYIDAW', 'NEPAL': 'KATMANDÚ', 'OMÁN': 'MASCATE', 'PAKISTÁN': 'ISLAMABAD', 'PALESTINA': 'RAMALA', 'SINGAPUR': 'SINGAPUR', 'SIRIA': 'DAMASCO', 'SRI LANKA': 'COLOMBO', 'TAILANDIA': 'BANGKOK', 'TAIWAN': 'TAIPEH', 'TAYIKISTÁN': 'DUSAMBÉ', 'TIMOR ORIENTAL': 'DILI', 'TURKMENISTÁN': 'ASJABAD', 'TURQUÍA': 'ANKARA', 'UZBEKISTÁN': 'TASHKENT', 'VIETNAM': 'HANOI', 'YEMEN': 'SANÁ', 'ALBANIA': 'TIRANA', 'ALEMANIA': 'BERLÍN', 'ANDORRA': 'ANDORRA LA VIEJA', 'ARMENIA': 'EREVÁN', 'AUSTRIA': 'VIENA', 'AZERBAIYÁN': 'BAKÚ', 'BÉLGICA': 'BRUSELAS', 'BIELORRUSIA': 'MINSK', 'BOSNIA Y HERZEGOVINA': 'SARAJEVO', 'BULGARIA': 'SOFÍA', 'CROACIA': 'ZAGREB', 'DINAMARCA': 'COPENHAGUE', 'ESLOVAQUIA': 'BRATISLAVA', 'ESLOVENIA': 'LUBLIJANA', 'ESPAÑA': 'MADRID', 'ESTONIA': 'TALLÍN', 'FINLANDIA': 'HELSINKI', 'FRANCIA': 'PARÍS', 'GEORGIA': 'TIFLIS', 'GRECIA': 'ATENAS', 'HUNGRÍA': 'BUDAPEST', 'IRLANDA': 'DUBLÍN', 'ISLANDIA': 'REIKIAVIK', 'ITALIA': 'ROMA', 'LETONIA': 'RIGA', 'LIECHTENSTEIN': 'VADUZ', 'LITUANIA': 'VILNA', 'LUXEMBURGO': 'LUXEMBURGO', 'MALTA': 'LA VALETA', 'MOLDAVIA': 'CHISINAU', 'MÓNACO': 'MÓNACO', 'MONTENEGRO': 'PODGORICA', 'NORUEGA': 'OSLO', 'PAÍSES BAJOS': 'AMSTERDAM', 'POLONIA': 'VARSOVIA', 'PORTUGAL': 'LISBOA', 'REINO UNIDO': 'LONDRES', 'REPÚBLICA CHECA': 'PRAGA', 'REPÚBLICA DE MACEDONIA': 'SKOPJE', 'RUMANIA': 'BUCAREST', 'RUSIA': 'MOSCÚ', 'SAN MARINO': 'CIUDAD DE SAN MARINO', 'SERBIA': 'BELGRADO', 'SUECIA': 'ESTOCOLMO', 'SUIZA': 'BERNA', 'UCRANIA': 'KIEV', 'VATICANO': 'CIUDAD DEL VATICANO', 'AUSTRALIA': 'CANBERRA', 'FIYI': 'SUVA', 'ISLAS MARSHALL': 'MAJURO', 'ISLAS SALOMÓN': 'HONIARA', 'KIRIBATI': 'TARAWA', 'MICRONESIA': 'PALIKIR', 'NAURU': 'YAREN', 'NUEVA ZELANDA': 'WELLINGTON', 'PALAOS': 'MELEKEOK', 'PAPÚA NUEVA GUINEA': 'PORT MORESBY', 'SAMOA': 'APIA', 'TONGA': \"NUKU'ALOFA\", 'TUVALU': 'FUNAFUTI', 'VANUATU': 'PORT VILA'}\n"
          ],
          "name": "stdout"
        }
      ]
    },
    {
      "cell_type": "code",
      "metadata": {
        "colab": {
          "base_uri": "https://localhost:8080/"
        },
        "id": "Ba8O70nfOTRv",
        "outputId": "cdee5928-06f0-4209-b374-0fbdbc6c2256"
      },
      "source": [
        "num_jugadores = int(input(\"¿Cuantos jugadores jugarán?: \"))\n",
        "num_cant_turnos = int(input(\"¿Cuantos turnos jugarán?: \"))"
      ],
      "execution_count": null,
      "outputs": [
        {
          "output_type": "stream",
          "text": [
            "¿Cuantos jugadores jugarán?: 2\n",
            "¿Cuantos turnos jugarán?: 3\n"
          ],
          "name": "stdout"
        }
      ]
    },
    {
      "cell_type": "code",
      "metadata": {
        "id": "bCciFRUEOqHm"
      },
      "source": [
        "for i in range(num_cant_turnos):\n",
        "  for j in range(num_jugadores):\n",
        "    pais_random = random.choice(list(db.keys()))\n",
        "    respuesta = input(f\"¿cual es la capital del país {pais_random}?\")\n",
        "    if respuesta.upper() == db[pais_random]:\n",
        "      print(\"felicitaciones sumaste un punto\")\n",
        "    else:\n",
        "      print(f\"lo siento tu respuesta no es correcta, la capital es: {db[pais_random]}\")"
      ],
      "execution_count": null,
      "outputs": []
    }
  ]
}